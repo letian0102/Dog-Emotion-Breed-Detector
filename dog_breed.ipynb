{
  "nbformat": 4,
  "nbformat_minor": 0,
  "metadata": {
    "colab": {
      "provenance": [],
      "gpuType": "A100",
      "machine_shape": "hm"
    },
    "kernelspec": {
      "name": "python3",
      "display_name": "Python 3"
    },
    "language_info": {
      "name": "python"
    },
    "accelerator": "GPU"
  },
  "cells": [
    {
      "cell_type": "code",
      "execution_count": 12,
      "metadata": {
        "id": "0RA1UvyUfLMF"
      },
      "outputs": [],
      "source": [
        "import tensorflow as tf\n",
        "from tensorflow.keras.applications.inception_resnet_v2 import InceptionResNetV2, preprocess_input\n",
        "from tensorflow.keras.preprocessing.image import ImageDataGenerator\n",
        "from tensorflow.keras.layers import Dense, GlobalAveragePooling2D\n",
        "from tensorflow.keras.models import Model\n",
        "from tensorflow.keras.optimizers import SGD\n",
        "import os\n",
        "import matplotlib.pyplot as plt"
      ]
    },
    {
      "cell_type": "code",
      "source": [
        "import kagglehub\n",
        "path = kagglehub.dataset_download(\"jessicali9530/stanford-dogs-dataset\")\n",
        "print(\"Path to dataset files:\", path)\n",
        "\n",
        "# Path variables\n",
        "dataset_path = f\"{path}/images/Images\""
      ],
      "metadata": {
        "colab": {
          "base_uri": "https://localhost:8080/"
        },
        "id": "LfbzOsTkgZs_",
        "outputId": "afdf1712-dfeb-4a4d-b9f8-9ab0883bb4e7"
      },
      "execution_count": 13,
      "outputs": [
        {
          "output_type": "stream",
          "name": "stdout",
          "text": [
            "Path to dataset files: /root/.cache/kagglehub/datasets/jessicali9530/stanford-dogs-dataset/versions/2\n"
          ]
        }
      ]
    },
    {
      "cell_type": "code",
      "source": [
        "# Data preprocessing\n",
        "image_size = 299  # Required input size for InceptionResNetV2\n",
        "batch_size = 32\n",
        "\n",
        "datagen = ImageDataGenerator(\n",
        "    preprocessing_function=preprocess_input,\n",
        "    validation_split=0.2  # 20% validation split for train and validation\n",
        ")\n",
        "\n",
        "train_generator = datagen.flow_from_directory(\n",
        "    dataset_path,\n",
        "    target_size=(image_size, image_size),\n",
        "    batch_size=batch_size,\n",
        "    class_mode='categorical',\n",
        "    subset='training',\n",
        "    shuffle=True  # Shuffle data for training\n",
        ")\n",
        "\n",
        "val_generator = datagen.flow_from_directory(\n",
        "    dataset_path,\n",
        "    target_size=(image_size, image_size),\n",
        "    batch_size=batch_size,\n",
        "    class_mode='categorical',\n",
        "    subset='validation'\n",
        ")\n",
        "\n",
        "# For simplicity, we'll use the validation set as the test set in this example.\n",
        "test_generator = val_generator"
      ],
      "metadata": {
        "colab": {
          "base_uri": "https://localhost:8080/"
        },
        "id": "ZrPt1cwYgj2r",
        "outputId": "9c958015-2812-47ef-f76c-8bc4469408db"
      },
      "execution_count": 14,
      "outputs": [
        {
          "output_type": "stream",
          "name": "stdout",
          "text": [
            "Found 16508 images belonging to 120 classes.\n",
            "Found 4072 images belonging to 120 classes.\n"
          ]
        }
      ]
    },
    {
      "cell_type": "code",
      "source": [
        "# Load the InceptionResNetV2 model\n",
        "base_model = InceptionResNetV2(weights='imagenet', include_top=False, input_shape=(image_size, image_size, 3))\n",
        "\n",
        "# Add custom layers\n",
        "x = base_model.output\n",
        "x = GlobalAveragePooling2D()(x)\n",
        "x = Dense(1024, activation='relu')(x)\n",
        "predictions = Dense(len(train_generator.class_indices), activation='softmax')(x)\n",
        "\n",
        "# Create the model\n",
        "model = Model(inputs=base_model.input, outputs=predictions)\n",
        "\n",
        "# Freeze the base model layers\n",
        "for layer in base_model.layers:\n",
        "    layer.trainable = False\n",
        "\n",
        "# Compile the model\n",
        "model.compile(optimizer=SGD(learning_rate=0.001), loss='categorical_crossentropy', metrics=['accuracy'])\n",
        "\n",
        "print(f\"Training samples: {train_generator.samples}\")\n",
        "print(f\"Validation samples: {val_generator.samples}\")\n",
        "print(f\"Batch size: {train_generator.batch_size}\")\n",
        "for batch, labels in train_generator:\n",
        "    print(batch.shape, labels.shape)\n",
        "    break"
      ],
      "metadata": {
        "colab": {
          "base_uri": "https://localhost:8080/"
        },
        "id": "FuWgUVZggsnb",
        "outputId": "5979d61e-95d8-4cbe-a2b4-2dfb59b5e456"
      },
      "execution_count": 15,
      "outputs": [
        {
          "output_type": "stream",
          "name": "stdout",
          "text": [
            "Training samples: 16508\n",
            "Validation samples: 4072\n",
            "Batch size: 32\n",
            "(32, 299, 299, 3) (32, 120)\n"
          ]
        }
      ]
    },
    {
      "cell_type": "code",
      "source": [
        "train_dataset = tf.data.Dataset.from_generator(\n",
        "    lambda: train_generator,\n",
        "    output_signature=(\n",
        "        tf.TensorSpec(shape=(None, 299, 299, 3), dtype=tf.float32),\n",
        "        tf.TensorSpec(shape=(None, len(train_generator.class_indices)), dtype=tf.float32),\n",
        "    )\n",
        ").repeat()  # Ensures infinite looping of the dataset\n",
        "\n",
        "val_dataset = tf.data.Dataset.from_generator(\n",
        "    lambda: val_generator,\n",
        "    output_signature=(\n",
        "        tf.TensorSpec(shape=(None, 299, 299, 3), dtype=tf.float32),\n",
        "        tf.TensorSpec(shape=(None, len(val_generator.class_indices)), dtype=tf.float32),\n",
        "    )\n",
        ").repeat()"
      ],
      "metadata": {
        "id": "k1jJ8huLCuso"
      },
      "execution_count": 16,
      "outputs": []
    },
    {
      "cell_type": "code",
      "source": [
        "# Train the model\n",
        "train_steps = train_generator.samples // train_generator.batch_size\n",
        "val_steps = val_generator.samples // val_generator.batch_size\n",
        "\n",
        "print(f\"Steps per epoch (training): {train_steps}\")\n",
        "print(f\"Validation steps: {val_steps}\")"
      ],
      "metadata": {
        "colab": {
          "base_uri": "https://localhost:8080/"
        },
        "id": "pl1uq8VU-_qH",
        "outputId": "8257fcc7-2144-43c8-dbff-1e495165ea8f"
      },
      "execution_count": 17,
      "outputs": [
        {
          "output_type": "stream",
          "name": "stdout",
          "text": [
            "Steps per epoch (training): 515\n",
            "Validation steps: 127\n"
          ]
        }
      ]
    },
    {
      "cell_type": "code",
      "source": [
        "# Train the model\n",
        "history = model.fit(\n",
        "    train_dataset,\n",
        "    steps_per_epoch=train_steps,  # Explicitly set the correct steps\n",
        "    validation_data=val_dataset,\n",
        "    validation_steps=val_steps,\n",
        "    epochs=10,\n",
        "    verbose=1\n",
        ")\n",
        "\n",
        "# Fine-tuning: Unfreeze some layers in the base model and retrain\n",
        "for layer in base_model.layers[:200]:\n",
        "    layer.trainable = False\n",
        "for layer in base_model.layers[200:]:\n",
        "    layer.trainable = True\n",
        "\n",
        "# Recompile the model\n",
        "model.compile(optimizer=SGD(learning_rate=0.001), loss='categorical_crossentropy', metrics=['accuracy'])\n",
        "\n",
        "# Continue training\n",
        "fine_tune_epochs = 10\n",
        "total_epochs = 10 + fine_tune_epochs\n",
        "\n",
        "history_fine_tune = model.fit(\n",
        "    train_dataset,\n",
        "    steps_per_epoch=train_steps,  # Same steps as initial training\n",
        "    validation_data=val_dataset,\n",
        "    validation_steps=val_steps,\n",
        "    epochs=total_epochs,\n",
        "    initial_epoch=10\n",
        ")\n"
      ],
      "metadata": {
        "colab": {
          "base_uri": "https://localhost:8080/"
        },
        "id": "3a9RqRvVhBG0",
        "outputId": "f829252c-0e5e-4736-8b17-d4124be10a00"
      },
      "execution_count": 18,
      "outputs": [
        {
          "output_type": "stream",
          "name": "stdout",
          "text": [
            "Epoch 1/10\n",
            "\u001b[1m515/515\u001b[0m \u001b[32m━━━━━━━━━━━━━━━━━━━━\u001b[0m\u001b[37m\u001b[0m \u001b[1m99s\u001b[0m 148ms/step - accuracy: 0.0232 - loss: 4.7459 - val_accuracy: 0.1206 - val_loss: 4.4911\n",
            "Epoch 2/10\n",
            "\u001b[1m515/515\u001b[0m \u001b[32m━━━━━━━━━━━━━━━━━━━━\u001b[0m\u001b[37m\u001b[0m \u001b[1m62s\u001b[0m 121ms/step - accuracy: 0.2071 - loss: 4.4102 - val_accuracy: 0.4889 - val_loss: 4.1590\n",
            "Epoch 3/10\n",
            "\u001b[1m515/515\u001b[0m \u001b[32m━━━━━━━━━━━━━━━━━━━━\u001b[0m\u001b[37m\u001b[0m \u001b[1m56s\u001b[0m 108ms/step - accuracy: 0.5534 - loss: 4.0749 - val_accuracy: 0.7173 - val_loss: 3.8177\n",
            "Epoch 4/10\n",
            "\u001b[1m515/515\u001b[0m \u001b[32m━━━━━━━━━━━━━━━━━━━━\u001b[0m\u001b[37m\u001b[0m \u001b[1m54s\u001b[0m 106ms/step - accuracy: 0.7420 - loss: 3.7235 - val_accuracy: 0.8119 - val_loss: 3.4534\n",
            "Epoch 5/10\n",
            "\u001b[1m515/515\u001b[0m \u001b[32m━━━━━━━━━━━━━━━━━━━━\u001b[0m\u001b[37m\u001b[0m \u001b[1m53s\u001b[0m 103ms/step - accuracy: 0.8309 - loss: 3.3591 - val_accuracy: 0.8535 - val_loss: 3.0813\n",
            "Epoch 6/10\n",
            "\u001b[1m515/515\u001b[0m \u001b[32m━━━━━━━━━━━━━━━━━━━━\u001b[0m\u001b[37m\u001b[0m \u001b[1m52s\u001b[0m 101ms/step - accuracy: 0.8637 - loss: 2.9863 - val_accuracy: 0.8720 - val_loss: 2.7000\n",
            "Epoch 7/10\n",
            "\u001b[1m515/515\u001b[0m \u001b[32m━━━━━━━━━━━━━━━━━━━━\u001b[0m\u001b[37m\u001b[0m \u001b[1m48s\u001b[0m 93ms/step - accuracy: 0.8823 - loss: 2.5986 - val_accuracy: 0.8837 - val_loss: 2.3306\n",
            "Epoch 8/10\n",
            "\u001b[1m515/515\u001b[0m \u001b[32m━━━━━━━━━━━━━━━━━━━━\u001b[0m\u001b[37m\u001b[0m \u001b[1m46s\u001b[0m 89ms/step - accuracy: 0.8836 - loss: 2.2444 - val_accuracy: 0.8936 - val_loss: 1.9806\n",
            "Epoch 9/10\n",
            "\u001b[1m515/515\u001b[0m \u001b[32m━━━━━━━━━━━━━━━━━━━━\u001b[0m\u001b[37m\u001b[0m \u001b[1m44s\u001b[0m 85ms/step - accuracy: 0.8937 - loss: 1.9003 - val_accuracy: 0.8970 - val_loss: 1.6758\n",
            "Epoch 10/10\n",
            "\u001b[1m515/515\u001b[0m \u001b[32m━━━━━━━━━━━━━━━━━━━━\u001b[0m\u001b[37m\u001b[0m \u001b[1m46s\u001b[0m 89ms/step - accuracy: 0.8984 - loss: 1.5985 - val_accuracy: 0.9047 - val_loss: 1.4062\n",
            "Epoch 11/20\n",
            "\u001b[1m515/515\u001b[0m \u001b[32m━━━━━━━━━━━━━━━━━━━━\u001b[0m\u001b[37m\u001b[0m \u001b[1m193s\u001b[0m 232ms/step - accuracy: 0.8334 - loss: 1.4666 - val_accuracy: 0.8851 - val_loss: 0.6827\n",
            "Epoch 12/20\n",
            "\u001b[1m515/515\u001b[0m \u001b[32m━━━━━━━━━━━━━━━━━━━━\u001b[0m\u001b[37m\u001b[0m \u001b[1m65s\u001b[0m 127ms/step - accuracy: 0.8709 - loss: 0.8206 - val_accuracy: 0.8938 - val_loss: 0.5240\n",
            "Epoch 13/20\n",
            "\u001b[1m515/515\u001b[0m \u001b[32m━━━━━━━━━━━━━━━━━━━━\u001b[0m\u001b[37m\u001b[0m \u001b[1m65s\u001b[0m 127ms/step - accuracy: 0.8834 - loss: 0.6215 - val_accuracy: 0.9027 - val_loss: 0.4334\n",
            "Epoch 14/20\n",
            "\u001b[1m515/515\u001b[0m \u001b[32m━━━━━━━━━━━━━━━━━━━━\u001b[0m\u001b[37m\u001b[0m \u001b[1m65s\u001b[0m 125ms/step - accuracy: 0.8908 - loss: 0.5134 - val_accuracy: 0.9064 - val_loss: 0.3915\n",
            "Epoch 15/20\n",
            "\u001b[1m515/515\u001b[0m \u001b[32m━━━━━━━━━━━━━━━━━━━━\u001b[0m\u001b[37m\u001b[0m \u001b[1m63s\u001b[0m 123ms/step - accuracy: 0.8993 - loss: 0.4520 - val_accuracy: 0.8963 - val_loss: 0.3817\n",
            "Epoch 16/20\n",
            "\u001b[1m515/515\u001b[0m \u001b[32m━━━━━━━━━━━━━━━━━━━━\u001b[0m\u001b[37m\u001b[0m \u001b[1m61s\u001b[0m 118ms/step - accuracy: 0.9057 - loss: 0.4042 - val_accuracy: 0.9116 - val_loss: 0.3410\n",
            "Epoch 17/20\n",
            "\u001b[1m515/515\u001b[0m \u001b[32m━━━━━━━━━━━━━━━━━━━━\u001b[0m\u001b[37m\u001b[0m \u001b[1m61s\u001b[0m 118ms/step - accuracy: 0.9168 - loss: 0.3517 - val_accuracy: 0.9022 - val_loss: 0.3455\n",
            "Epoch 18/20\n",
            "\u001b[1m515/515\u001b[0m \u001b[32m━━━━━━━━━━━━━━━━━━━━\u001b[0m\u001b[37m\u001b[0m \u001b[1m61s\u001b[0m 118ms/step - accuracy: 0.9147 - loss: 0.3340 - val_accuracy: 0.9082 - val_loss: 0.3297\n",
            "Epoch 19/20\n",
            "\u001b[1m515/515\u001b[0m \u001b[32m━━━━━━━━━━━━━━━━━━━━\u001b[0m\u001b[37m\u001b[0m \u001b[1m61s\u001b[0m 118ms/step - accuracy: 0.9245 - loss: 0.3055 - val_accuracy: 0.9059 - val_loss: 0.3311\n",
            "Epoch 20/20\n",
            "\u001b[1m515/515\u001b[0m \u001b[32m━━━━━━━━━━━━━━━━━━━━\u001b[0m\u001b[37m\u001b[0m \u001b[1m61s\u001b[0m 118ms/step - accuracy: 0.9240 - loss: 0.2942 - val_accuracy: 0.9079 - val_loss: 0.3170\n"
          ]
        }
      ]
    },
    {
      "cell_type": "code",
      "source": [
        "# print(history.history['accuracy'])"
      ],
      "metadata": {
        "id": "oTolAwaRujPU"
      },
      "execution_count": 19,
      "outputs": []
    },
    {
      "cell_type": "code",
      "source": [
        "# # Evaluate the model on validation data\n",
        "# loss, accuracy = model.evaluate(val_generator, steps=val_steps)\n",
        "# print(f\"Validation Accuracy: {accuracy:.2f}\")\n",
        "\n",
        "# # Plot training and validation accuracy\n",
        "# plt.figure()\n",
        "# plt.plot(history.history['accuracy'] + history_fine_tune.history['accuracy'], label='Training Accuracy')\n",
        "# plt.plot(history.history['val_accuracy'] + history_fine_tune.history['val_accuracy'], label='Validation Accuracy')\n",
        "# plt.xlabel('Epochs')\n",
        "# plt.ylabel('Accuracy')\n",
        "# plt.legend()\n",
        "# plt.title('Training and Validation Accuracy')\n",
        "# plt.show()"
      ],
      "metadata": {
        "id": "Kq5pbp-jhCYc"
      },
      "execution_count": 20,
      "outputs": []
    },
    {
      "cell_type": "code",
      "source": [
        "model.save('breed_model.keras')\n",
        "#model.save_weights('breed_model_weights.weights.h5')"
      ],
      "metadata": {
        "id": "xfi3OWmL_wVD"
      },
      "execution_count": 21,
      "outputs": []
    },
    {
      "cell_type": "code",
      "source": [
        "print(\"Standalone Keras Version:\", tf.keras.__version__)\n",
        "print(\"TensorFlow Keras Version:\", tf.keras.__version__)\n",
        "print(\"TensorFlow Version:\", tf.__version__)"
      ],
      "metadata": {
        "colab": {
          "base_uri": "https://localhost:8080/"
        },
        "id": "kUV_FbqFm857",
        "outputId": "47610c10-ff7b-4eb5-9c4e-9f3c7450c2ab"
      },
      "execution_count": 22,
      "outputs": [
        {
          "output_type": "stream",
          "name": "stdout",
          "text": [
            "Standalone Keras Version: 3.5.0\n",
            "TensorFlow Keras Version: 3.5.0\n",
            "TensorFlow Version: 2.17.1\n"
          ]
        }
      ]
    },
    {
      "cell_type": "code",
      "source": [
        "breed_classes = sorted(\n",
        "    [d for d in os.listdir(dataset_path) if os.path.isdir(os.path.join(dataset_path, d))],\n",
        "    key=lambda d: os.path.getmtime(os.path.join(dataset_path, d)),\n",
        "    reverse=True  # Set to True for most recently modified first\n",
        ")\n",
        "\n",
        "# Print the class names sorted by modification date\n",
        "breed_classes.reverse()\n",
        "print(breed_classes)"
      ],
      "metadata": {
        "colab": {
          "base_uri": "https://localhost:8080/"
        },
        "id": "1Eess4WwvLnN",
        "outputId": "5dab9a0d-454e-4490-f3e7-435c03217837"
      },
      "execution_count": 28,
      "outputs": [
        {
          "output_type": "stream",
          "name": "stdout",
          "text": [
            "['n02085620-Chihuahua', 'n02085782-Japanese_spaniel', 'n02085936-Maltese_dog', 'n02086079-Pekinese', 'n02086240-Shih-Tzu', 'n02086646-Blenheim_spaniel', 'n02086910-papillon', 'n02087046-toy_terrier', 'n02087394-Rhodesian_ridgeback', 'n02088094-Afghan_hound', 'n02088238-basset', 'n02088364-beagle', 'n02088466-bloodhound', 'n02088632-bluetick', 'n02089078-black-and-tan_coonhound', 'n02089867-Walker_hound', 'n02089973-English_foxhound', 'n02090379-redbone', 'n02090622-borzoi', 'n02090721-Irish_wolfhound', 'n02091032-Italian_greyhound', 'n02091134-whippet', 'n02091244-Ibizan_hound', 'n02091467-Norwegian_elkhound', 'n02091635-otterhound', 'n02091831-Saluki', 'n02092002-Scottish_deerhound', 'n02092339-Weimaraner', 'n02093256-Staffordshire_bullterrier', 'n02093428-American_Staffordshire_terrier', 'n02093647-Bedlington_terrier', 'n02093754-Border_terrier', 'n02093859-Kerry_blue_terrier', 'n02093991-Irish_terrier', 'n02094114-Norfolk_terrier', 'n02094258-Norwich_terrier', 'n02094433-Yorkshire_terrier', 'n02095314-wire-haired_fox_terrier', 'n02095570-Lakeland_terrier', 'n02095889-Sealyham_terrier', 'n02096051-Airedale', 'n02096177-cairn', 'n02096294-Australian_terrier', 'n02096437-Dandie_Dinmont', 'n02096585-Boston_bull', 'n02097047-miniature_schnauzer', 'n02097130-giant_schnauzer', 'n02097209-standard_schnauzer', 'n02097298-Scotch_terrier', 'n02097474-Tibetan_terrier', 'n02097658-silky_terrier', 'n02098105-soft-coated_wheaten_terrier', 'n02098286-West_Highland_white_terrier', 'n02098413-Lhasa', 'n02099267-flat-coated_retriever', 'n02099429-curly-coated_retriever', 'n02099601-golden_retriever', 'n02099712-Labrador_retriever', 'n02099849-Chesapeake_Bay_retriever', 'n02100236-German_short-haired_pointer', 'n02100583-vizsla', 'n02100735-English_setter', 'n02100877-Irish_setter', 'n02101006-Gordon_setter', 'n02101388-Brittany_spaniel', 'n02101556-clumber', 'n02102040-English_springer', 'n02102177-Welsh_springer_spaniel', 'n02102318-cocker_spaniel', 'n02102480-Sussex_spaniel', 'n02102973-Irish_water_spaniel', 'n02104029-kuvasz', 'n02104365-schipperke', 'n02105056-groenendael', 'n02105162-malinois', 'n02105251-briard', 'n02105412-kelpie', 'n02105505-komondor', 'n02105641-Old_English_sheepdog', 'n02105855-Shetland_sheepdog', 'n02106030-collie', 'n02106166-Border_collie', 'n02106382-Bouvier_des_Flandres', 'n02106550-Rottweiler', 'n02106662-German_shepherd', 'n02107142-Doberman', 'n02107312-miniature_pinscher', 'n02107574-Greater_Swiss_Mountain_dog', 'n02107683-Bernese_mountain_dog', 'n02107908-Appenzeller', 'n02108000-EntleBucher', 'n02108089-boxer', 'n02108422-bull_mastiff', 'n02108551-Tibetan_mastiff', 'n02108915-French_bulldog', 'n02109047-Great_Dane', 'n02109525-Saint_Bernard', 'n02109961-Eskimo_dog', 'n02110063-malamute', 'n02110185-Siberian_husky', 'n02110627-affenpinscher', 'n02110806-basenji', 'n02110958-pug', 'n02111129-Leonberg', 'n02111277-Newfoundland', 'n02111500-Great_Pyrenees', 'n02111889-Samoyed', 'n02112018-Pomeranian', 'n02112137-chow', 'n02112350-keeshond', 'n02112706-Brabancon_griffon', 'n02113023-Pembroke', 'n02113186-Cardigan', 'n02113624-toy_poodle', 'n02113712-miniature_poodle', 'n02113799-standard_poodle', 'n02113978-Mexican_hairless', 'n02115641-dingo', 'n02115913-dhole', 'n02116738-African_hunting_dog']\n"
          ]
        }
      ]
    },
    {
      "cell_type": "code",
      "source": [],
      "metadata": {
        "id": "ZiEy6QpKzvmB"
      },
      "execution_count": 23,
      "outputs": []
    }
  ]
}